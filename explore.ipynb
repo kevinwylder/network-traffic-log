{
 "cells": [
  {
   "cell_type": "code",
   "execution_count": null,
   "metadata": {},
   "outputs": [],
   "source": [
    "import itertools\n",
    "import importlib\n",
    "from pathlib import Path\n",
    "\n",
    "import numpy as np\n",
    "\n",
    "from bokeh.io import output_notebook\n",
    "output_notebook()"
   ]
  },
  {
   "cell_type": "code",
   "execution_count": null,
   "metadata": {},
   "outputs": [],
   "source": [
    "import dataloader\n",
    "importlib.reload(dataloader)\n",
    "\n",
    "minutes_to_bin = 4\n",
    "data = np.zeros((7, 24 * 60 // minutes_to_bin), dtype=np.float32)\n",
    "datadir = Path(\"data\")\n",
    "days = list(sorted(datadir.iterdir()))\n",
    "for day in days:\n",
    "    dataloader.rasterize_week(data, str(day))"
   ]
  },
  {
   "cell_type": "code",
   "execution_count": null,
   "metadata": {},
   "outputs": [],
   "source": [
    "max(max(a) for a in data)"
   ]
  },
  {
   "cell_type": "code",
   "execution_count": null,
   "metadata": {},
   "outputs": [],
   "source": [
    "from bokeh.palettes import Dark2_5 as palette\n",
    "from bokeh.plotting import figure, show, output_file, save\n",
    "\n",
    "bin_labels = {}\n",
    "for bin in range((24 * 60) // minutes_to_bin):\n",
    "    hour = (bin * minutes_to_bin) // 60\n",
    "    minute = (bin * minutes_to_bin) % 60\n",
    "    posmod_hour = ((hour + 11) % 12) + 1\n",
    "    bin_labels[bin] = f\"{posmod_hour}:{minute:02} {'am' if hour < 12 else 'pm'}\"\n",
    "\n",
    "p = figure(width=1400, height=800) # , y_axis_type=\"log\")\n",
    "p.xaxis.major_label_overrides = bin_labels\n",
    "p.yaxis.visible = False\n",
    "\n",
    "days = {\n",
    "    \"Monday\": \"#003c30\",\n",
    "    \"Tuesday\": \"#01665e\",\n",
    "    \"Wednesday\": \"#35978f\",\n",
    "    \"Thursday\": \"#80cdc1\",\n",
    "    \"Friday\": \"#bf812d\",\n",
    "    \"Saturday\": \"#8c510a\",\n",
    "    \"Sunday\": \"#543005\"\n",
    "}\n",
    "\n",
    "xs = np.arange(0, len(data[0]))\n",
    "step = max(max(a) for a in data) * 0.3\n",
    "for weekday, (name, color) in enumerate(days.items()):\n",
    "    ys = data[weekday] + (6 - weekday) * step\n",
    "    p.line(x=xs, y=ys, line_width=2, color=color, legend_label=name)\n",
    "p.legend.location = \"top_left\"\n",
    "p.legend.click_policy=\"hide\"\n",
    "show(p)\n",
    "if True:\n",
    "    output_file(\"traffic.html\", title=\"Home Network Traffic Graph\")\n",
    "    save(p)"
   ]
  },
  {
   "cell_type": "code",
   "execution_count": null,
   "metadata": {},
   "outputs": [],
   "source": []
  }
 ],
 "metadata": {
  "kernelspec": {
   "display_name": "Python 3 (ipykernel)",
   "language": "python",
   "name": "python3"
  },
  "language_info": {
   "codemirror_mode": {
    "name": "ipython",
    "version": 3
   },
   "file_extension": ".py",
   "mimetype": "text/x-python",
   "name": "python",
   "nbconvert_exporter": "python",
   "pygments_lexer": "ipython3",
   "version": "3.10.0"
  },
  "vscode": {
   "interpreter": {
    "hash": "056f2ff254c512b0c0c91e0718fd252e9f814704c5796e6a5a939431b7432167"
   }
  }
 },
 "nbformat": 4,
 "nbformat_minor": 2
}
