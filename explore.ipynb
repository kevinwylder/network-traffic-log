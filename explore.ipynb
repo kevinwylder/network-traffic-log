{
 "cells": [
  {
   "cell_type": "code",
   "execution_count": null,
   "metadata": {},
   "outputs": [],
   "source": [
    "import itertools\n",
    "import importlib\n",
    "from pathlib import Path\n",
    "\n",
    "import pandas as pd\n",
    "import numpy as np\n",
    "\n",
    "from bokeh.io import output_notebook\n",
    "output_notebook()"
   ]
  },
  {
   "cell_type": "code",
   "execution_count": null,
   "metadata": {},
   "outputs": [],
   "source": [
    "from trafficdata import parser \n",
    "\n",
    "importlib.reload(parser)\n",
    "\n",
    "minutes_to_bin = 5\n",
    "\n",
    "def week_bin(buf: int) -> int:\n",
    "    return (parser.Column.weekday(buf) * 24 + parser.Column.hour(buf)) * 12 + (parser.Column.minute(buf) // 5)\n",
    "\n",
    "def day_bin(buf: int) -> int:\n",
    "    return parser.Column.hour(buf) * 12 + (parser.Column.minute(buf) // minutes_to_bin)\n",
    "\n",
    "def bytes_linear(buf: int) -> int:\n",
    "    return 1 << parser.Column.log_bytes(buf)\n",
    "\n",
    "\n",
    "datadir = Path(\"data\")\n",
    "days = list(sorted(datadir.iterdir()))\n",
    "print(days)\n",
    "columns = parser.read_columns(\n",
    "    [d for d in days if \"2022\" in d.name], \n",
    "    [\n",
    "        (\"weekday\", parser.Column.weekday),\n",
    "        (\"bin\", week_bin),\n",
    "        (\"x\", day_bin),\n",
    "        (\"y\", bytes_linear),\n",
    "    ],\n",
    "    file_idx_col=\"week\"\n",
    ")\n",
    "print(\"finished read\")\n",
    "print(columns)\n",
    "d = pd.DataFrame(data=columns)"
   ]
  },
  {
   "cell_type": "code",
   "execution_count": null,
   "metadata": {},
   "outputs": [],
   "source": [
    "sums = d.groupby([\"week\", \"weekday\", \"bin\", \"x\"]).sum()\n",
    "sums\n",
    "avgs = sums.groupby([\"weekday\", \"bin\", \"x\"]).mean()"
   ]
  },
  {
   "cell_type": "code",
   "execution_count": null,
   "metadata": {},
   "outputs": [],
   "source": [
    "from bokeh.palettes import Dark2_5 as palette\n",
    "from bokeh.plotting import figure, show, output_file, save\n",
    "\n",
    "bin_labels = {\n",
    "    300: \"\"\n",
    "}\n",
    "for bin in range((24 * 60) // minutes_to_bin):\n",
    "    hour = (bin * minutes_to_bin) // 60\n",
    "    minute = (bin * minutes_to_bin) % 60\n",
    "    posmod_hour = ((hour + 11) % 12) + 1\n",
    "    bin_labels[bin] = f\"{posmod_hour}:{minute:02} {'am' if hour < 12 else 'pm'}\"\n",
    "\n",
    "p = figure(width=900, height=400) # , y_axis_type=\"log\")\n",
    "p.xaxis.major_label_overrides = bin_labels\n",
    "\n",
    "days = {\n",
    "    \"Monday\": \"#dfdf00\",\n",
    "    \"Tuesday\": \"#ffc0cb\",\n",
    "    \"Wednesday\": \"#008000\",\n",
    "    \"Thursday\": \"#ffa500\",\n",
    "    \"Friday\": \"#00bfff\",\n",
    "    \"Saturday\": \"#800080\",\n",
    "    \"Sunday\": \"#ff0000\"\n",
    "}\n",
    "\n",
    "for weekday, (name, color) in enumerate(days.items()):\n",
    "    day_avgs = avgs.query(f\"weekday == {weekday}\")\n",
    "    xs = day_avgs.axes[0].get_level_values(2)\n",
    "    ((_, ys), ) = day_avgs.items()\n",
    "    # ys = np.exp(ys / 100.0)\n",
    "    p.line(x=xs, y=ys, line_width=2, color=color, legend_label=name)\n",
    "p.legend.location = \"top_left\"\n",
    "p.legend.click_policy=\"hide\"\n",
    "show(p)\n",
    "if False:\n",
    "    output_file(\"traffic.html\", title=\"Home Network Traffic Graph\")\n",
    "    save(p)"
   ]
  },
  {
   "cell_type": "code",
   "execution_count": null,
   "metadata": {},
   "outputs": [],
   "source": []
  }
 ],
 "metadata": {
  "kernelspec": {
   "display_name": "Python 3 (ipykernel)",
   "language": "python",
   "name": "python3"
  },
  "language_info": {
   "codemirror_mode": {
    "name": "ipython",
    "version": 3
   },
   "file_extension": ".py",
   "mimetype": "text/x-python",
   "name": "python",
   "nbconvert_exporter": "python",
   "pygments_lexer": "ipython3",
   "version": "3.10.0"
  },
  "vscode": {
   "interpreter": {
    "hash": "056f2ff254c512b0c0c91e0718fd252e9f814704c5796e6a5a939431b7432167"
   }
  }
 },
 "nbformat": 4,
 "nbformat_minor": 2
}
